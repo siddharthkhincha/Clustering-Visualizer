{
 "cells": [
  {
   "cell_type": "code",
   "execution_count": 1,
   "id": "6bcd225c",
   "metadata": {},
   "outputs": [],
   "source": [
    "x = [[0,1],[1,0]]\n",
    "y = [1,-1]"
   ]
  },
  {
   "cell_type": "code",
   "execution_count": 2,
   "id": "7469c9ae",
   "metadata": {},
   "outputs": [],
   "source": [
    "x = [x[i] for i in range(0,len(x)) if y[i]!=-1]"
   ]
  },
  {
   "cell_type": "code",
   "execution_count": 3,
   "id": "6f98959c",
   "metadata": {},
   "outputs": [
    {
     "data": {
      "text/plain": [
       "[[0, 1]]"
      ]
     },
     "execution_count": 3,
     "metadata": {},
     "output_type": "execute_result"
    }
   ],
   "source": [
    "x"
   ]
  },
  {
   "cell_type": "code",
   "execution_count": null,
   "id": "418333d2",
   "metadata": {},
   "outputs": [],
   "source": [
    "[dataset[i] for i in range(dataset) if labels[i]!=-1]"
   ]
  }
 ],
 "metadata": {
  "kernelspec": {
   "display_name": "Python 3 (ipykernel)",
   "language": "python",
   "name": "python3"
  },
  "language_info": {
   "codemirror_mode": {
    "name": "ipython",
    "version": 3
   },
   "file_extension": ".py",
   "mimetype": "text/x-python",
   "name": "python",
   "nbconvert_exporter": "python",
   "pygments_lexer": "ipython3",
   "version": "3.8.10"
  }
 },
 "nbformat": 4,
 "nbformat_minor": 5
}
